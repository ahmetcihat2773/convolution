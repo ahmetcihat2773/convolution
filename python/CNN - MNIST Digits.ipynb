{
 "cells": [
  {
   "cell_type": "code",
   "execution_count": 1,
   "metadata": {},
   "outputs": [],
   "source": [
    "import tensorflow as tf\n",
    "from tensorflow import keras\n",
    "\n",
    "import numpy as np\n",
    "import matplotlib.pyplot as plt"
   ]
  },
  {
   "cell_type": "code",
   "execution_count": 17,
   "metadata": {},
   "outputs": [],
   "source": [
    "from tensorflow.keras import Sequential\n",
    "from tensorflow.keras import layers"
   ]
  },
  {
   "cell_type": "code",
   "execution_count": 19,
   "metadata": {},
   "outputs": [
    {
     "name": "stdout",
     "output_type": "stream",
     "text": [
      "Model: \"sequential_11\"\n",
      "_________________________________________________________________\n",
      "Layer (type)                 Output Shape              Param #   \n",
      "=================================================================\n",
      "conv2d_15 (Conv2D)           (None, 24, 24, 32)        832       \n",
      "_________________________________________________________________\n",
      "max_pooling2d_15 (MaxPooling (None, 12, 12, 32)        0         \n",
      "_________________________________________________________________\n",
      "conv2d_16 (Conv2D)           (None, 8, 8, 64)          51264     \n",
      "_________________________________________________________________\n",
      "max_pooling2d_16 (MaxPooling (None, 4, 4, 64)          0         \n",
      "_________________________________________________________________\n",
      "flatten (Flatten)            (None, 1024)              0         \n",
      "_________________________________________________________________\n",
      "dense (Dense)                (None, 10)                10250     \n",
      "=================================================================\n",
      "Total params: 62,346\n",
      "Trainable params: 62,346\n",
      "Non-trainable params: 0\n",
      "_________________________________________________________________\n"
     ]
    }
   ],
   "source": [
    "model = Sequential()\n",
    "\n",
    "# 32 different convolution filters, 5 x 5 filter window, neuron activation = ReLU\n",
    "# Input Tensor has size (28, 28, 1) - MNIST Digit Dataset 28x28 pixels, 1 luma channel\n",
    "model.add(layers.Conv2D(32,(5,5),activation='relu', input_shape=(28,28,1)))\n",
    "# Pooling Layer with MAX_Pooling and a 2x2 window\n",
    "model.add(layers.MaxPooling2D((2,2)))\n",
    "# 64 different convolution filters, 5 x 5 filter window, neuron activation = ReLU\n",
    "# Input Tensor has size (28, 28, 1) - MNIST Digit Dataset 28x28 pixels, 1 luma channel\n",
    "model.add(layers.Conv2D(64, (5,5), activation='relu', input_shape=(28, 28, 1)))\n",
    "# Pooling Layer with MAX_Pooling and a 2x2 window\n",
    "model.add(layers.MaxPooling2D((2,2)))\n",
    "\n",
    "# Flatten layers from 3D tensor to 1D vector\n",
    "model.add(layers.Flatten())\n",
    "\n",
    "# Final Dense layer for classification\n",
    "model.add(layers.Dense(10, activation='softmax'))\n",
    "\n",
    "# Print Summary of our Model\n",
    "model.summary()"
   ]
  },
  {
   "cell_type": "code",
   "execution_count": 25,
   "metadata": {},
   "outputs": [
    {
     "name": "stderr",
     "output_type": "stream",
     "text": [
      "Der Befehl \"[title]\" ist entweder falsch geschrieben oder\n",
      "konnte nicht gefunden werden.\n"
     ]
    }
   ],
   "source": [
    "![title](https://miro.medium.com/max/700/1*CKgnKTEITrPKaDiG_536Mg.png)"
   ]
  },
  {
   "cell_type": "code",
   "execution_count": null,
   "metadata": {},
   "outputs": [],
   "source": []
  },
  {
   "cell_type": "code",
   "execution_count": null,
   "metadata": {},
   "outputs": [],
   "source": []
  }
 ],
 "metadata": {
  "kernelspec": {
   "display_name": "Python 3",
   "language": "python",
   "name": "python3"
  },
  "language_info": {
   "codemirror_mode": {
    "name": "ipython",
    "version": 3
   },
   "file_extension": ".py",
   "mimetype": "text/x-python",
   "name": "python",
   "nbconvert_exporter": "python",
   "pygments_lexer": "ipython3",
   "version": "3.6.5"
  }
 },
 "nbformat": 4,
 "nbformat_minor": 4
}
